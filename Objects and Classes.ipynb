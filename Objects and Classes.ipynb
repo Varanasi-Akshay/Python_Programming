{
 "cells": [
  {
   "cell_type": "markdown",
   "metadata": {},
   "source": [
    "### Everything is an object"
   ]
  },
  {
   "cell_type": "code",
   "execution_count": 1,
   "metadata": {},
   "outputs": [
    {
     "name": "stdout",
     "output_type": "stream",
     "text": [
      "f Doc String\n",
      "<built-in method to_bytes of int object at 0x00007FFD7F029860>\n",
      "b'*\\x00'\n",
      "<built-in method to_bytes of int object at 0x00007FFD7F029860>\n",
      "b'*\\x00'\n"
     ]
    }
   ],
   "source": [
    "def f():\n",
    "    \"\"\"Comment\"\"\"\n",
    "    return 42\n",
    "\n",
    "# Attributes\n",
    "print(f.__name__, f.__doc__)\n",
    "\n",
    "print((42).to_bytes)\n",
    "\n",
    "print((42).to_bytes(2, 'little'))\n",
    "\n",
    "f = (42).to_bytes\n",
    "print(f)\n",
    "print(f(2, 'little'))"
   ]
  },
  {
   "cell_type": "code",
   "execution_count": 1,
   "metadata": {},
   "outputs": [
    {
     "name": "stdout",
     "output_type": "stream",
     "text": [
      "Creating C: 8 <__main__.C object at 0x000001FEC1CE6B70>\n",
      "<__main__.C object at 0x000001FEC1CE6B70>\n",
      "------\n",
      "Creating C: 9 <__main__.C object at 0x000001FEC1CE6B70>\n",
      "------\n",
      "Processing: 5 <__main__.C object at 0x000001FEC1CE6B70>\n",
      "12\n",
      "------\n",
      "<bound method C.process of <__main__.C object at 0x000001FEC1CE6B70>>\n",
      "------\n",
      "9\n",
      "Creating C: 12 <__main__.C object at 0x000001FEC1CE6CF8>\n",
      "12\n"
     ]
    }
   ],
   "source": [
    "class C(object):\n",
    "    \"\"\"An example class.\n",
    "\n",
    "    Attributes:\n",
    "      arg: asdfgh\n",
    "    \"\"\"\n",
    "\n",
    "    def __init__(self, x):\n",
    "        \"\"\"The constructor.\"\"\"\n",
    "        print(\"Creating C:\", x, self)\n",
    "        self.arg = x\n",
    "\n",
    "    def process(self, v):\n",
    "        \"\"\"Process v through this class.\"\"\"\n",
    "        print(\"Processing:\", v, self)\n",
    "        return v ^ self.arg # XOR\n",
    "\n",
    "\n",
    "print(C(8))\n",
    "print(\"------\")\n",
    "\n",
    "a = C(9)\n",
    "print(\"------\")\n",
    "\n",
    "print(a.process(5))\n",
    "# 1001 XOR 0101 = 1100\n",
    "print(\"------\")\n",
    "print(a.process)\n",
    "print(\"------\")\n",
    "print(a.arg)\n",
    "a = C(12)\n",
    "print(a.arg)"
   ]
  },
  {
   "cell_type": "code",
   "execution_count": 3,
   "metadata": {},
   "outputs": [
    {
     "name": "stdout",
     "output_type": "stream",
     "text": [
      "<class '__main__.C'> True\n",
      "True\n",
      "<class 'type'>\n",
      "<class 'type'>\n",
      "8 12\n",
      "{'arg': 12, 'x': 8, 'process': 3, 'v': 20}\n"
     ]
    }
   ],
   "source": [
    "print(type(a), type(a) is C)\n",
    "print(isinstance(a, C))\n",
    "\n",
    "print(type(C))\n",
    "print(type(type))\n",
    "\n",
    "a.x = 8\n",
    "print(a.x, a.arg)\n",
    "\n",
    "a.process = 3\n",
    "a.v = 20\n",
    "\n",
    "print(a.__dict__)"
   ]
  },
  {
   "cell_type": "markdown",
   "metadata": {},
   "source": [
    "#### When you write a.x, Python:\n",
    "#### * Checks a for an attribute called x (this is the case for a.arg).\n",
    "#### * Checks type(a)/a.__class__ (C in this case) for an attribute called x (this is the case for a.process).\n",
    "####   In this case it will also bind the first argument of methods."
   ]
  },
  {
   "cell_type": "code",
   "execution_count": 6,
   "metadata": {},
   "outputs": [
    {
     "name": "stdout",
     "output_type": "stream",
     "text": [
      "<function C.process at 0x000001C330927C80>\n",
      "3\n",
      "False\n",
      "True\n"
     ]
    }
   ],
   "source": [
    "print(C.process)\n",
    "print(a.process)\n",
    "\n",
    "print(hasattr(a, \"test\"))\n",
    "C.test = 3\n",
    "print(hasattr(a, \"test\"))"
   ]
  },
  {
   "cell_type": "code",
   "execution_count": 5,
   "metadata": {},
   "outputs": [
    {
     "name": "stdout",
     "output_type": "stream",
     "text": [
      "Creating C: 5 <__main__.C object at 0x000001FEC1D6F240>\n",
      "Creating C: 10 <__main__.C object at 0x000001FEC1D6F1D0>\n",
      "100 100 100\n",
      "True True\n"
     ]
    }
   ],
   "source": [
    "class C(object):\n",
    "    \"\"\"An example class.\"\"\"\n",
    "\n",
    "    offset = 100\n",
    "    lst = []\n",
    "\n",
    "    def __init__(self, arg):\n",
    "        \"\"\"The constructor.\"\"\"\n",
    "        print(\"Creating C:\", arg, self)\n",
    "        self.arg = arg\n",
    "\n",
    "    def process(self, v):\n",
    "        \"\"\"Process v through this class.\"\"\"\n",
    "        print(\"Processing:\", v, self)\n",
    "        return v ^ self.arg + self.offset\n",
    "\n",
    "\"\"\"\n",
    "The class attribute are available on the instances using the second rule\n",
    "above. They are not modified in any way because they are not methods.\n",
    "\"\"\"\n",
    "\n",
    "a = C(5)\n",
    "b = C(10)\n",
    "\n",
    "print(a.offset, b.offset, C.offset)\n",
    "print(a.lst is b.lst, a.lst is C.lst)"
   ]
  },
  {
   "cell_type": "code",
   "execution_count": 6,
   "metadata": {},
   "outputs": [
    {
     "name": "stdout",
     "output_type": "stream",
     "text": [
      "[2]\n",
      "[2]\n",
      "{'arg': 5}\n",
      "{'__module__': '__main__', '__doc__': 'An example class.', 'offset': 100, 'lst': [2], '__init__': <function C.__init__ at 0x000001FEC1CC36A8>, 'process': <function C.process at 0x000001FEC1CC3A60>, '__dict__': <attribute '__dict__' of 'C' objects>, '__weakref__': <attribute '__weakref__' of 'C' objects>}\n"
     ]
    }
   ],
   "source": [
    "# Problem with using lst like this?\n",
    "\n",
    "a.lst.append(2)\n",
    "\n",
    "print(a.lst)\n",
    "print(b.lst)\n",
    "\n",
    "print(a.__dict__)\n",
    "print(C.__dict__)"
   ]
  },
  {
   "cell_type": "code",
   "execution_count": 12,
   "metadata": {},
   "outputs": [
    {
     "name": "stdout",
     "output_type": "stream",
     "text": [
      "Creating C: 5 <__main__.C object at 0x000001C3309DB748>\n",
      "Creating C: 10 <__main__.C object at 0x000001C3309DB710>\n",
      "False\n",
      "[2]\n",
      "[]\n"
     ]
    }
   ],
   "source": [
    "# How do we fix this?\n",
    "\n",
    "class C(object):\n",
    "    \"\"\"An example class.\"\"\"\n",
    "\n",
    "    offset = 100\n",
    "\n",
    "    def __init__(self, arg):\n",
    "        \"\"\"The constructor.\"\"\"\n",
    "        print(\"Creating C:\", arg, self)\n",
    "        self.arg = arg\n",
    "        self.lst = []\n",
    "\n",
    "    def process(self, v):\n",
    "        \"\"\"Process v through this class.\"\"\"\n",
    "        print(\"Processing:\", v, self)\n",
    "        return v ^ self.arg + self.offset\n",
    "\n",
    "a = C(5)\n",
    "b = C(10)\n",
    "\n",
    "print(a.lst is b.lst)\n",
    "\n",
    "a.lst.append(2)\n",
    "print(a.lst)\n",
    "print(b.lst)"
   ]
  },
  {
   "cell_type": "code",
   "execution_count": 15,
   "metadata": {},
   "outputs": [
    {
     "name": "stdout",
     "output_type": "stream",
     "text": [
      "Hello\n",
      "-----\n",
      "Hello\n",
      "None\n",
      "-----\n",
      "Creating C: 6 <__main__.C object at 0x000001C3309D22E8>\n",
      "Hello\n"
     ]
    }
   ],
   "source": [
    "\"\"\"\n",
    "Static methods\n",
    "Prevent the self argument from being added.\n",
    "Static methods are exactly like static functions in other languages.\n",
    "\"\"\"\n",
    "\n",
    "class C(object):\n",
    "    \"\"\"An example class.\"\"\"\n",
    "\n",
    "    @staticmethod\n",
    "    def f():\n",
    "        print(\"Hello\")\n",
    "\n",
    "    offset = 100\n",
    "\n",
    "    def __init__(self, arg):\n",
    "        \"\"\"The constructor.\"\"\"\n",
    "        print(\"Creating C:\", arg, self)\n",
    "        self.arg = arg\n",
    "        self.lst = []\n",
    "\n",
    "    def process(self, v):\n",
    "        \"\"\"Process v through this class.\"\"\"\n",
    "        print(\"Processing:\", v, self)\n",
    "        return v ^ self.arg + self.offset\n",
    "\n",
    "C.f()\n",
    "print(\"-----\")\n",
    "print(C.f())\n",
    "print(\"-----\")\n",
    "a = C(6)\n",
    "a.f()"
   ]
  },
  {
   "cell_type": "markdown",
   "metadata": {},
   "source": [
    "#### https://stackabuse.com/pythons-classmethod-and-staticmethod-explained/"
   ]
  },
  {
   "cell_type": "code",
   "execution_count": 11,
   "metadata": {},
   "outputs": [
    {
     "name": "stdout",
     "output_type": "stream",
     "text": [
      "Hello <class '__main__.C'>\n",
      "-----\n",
      "Creating C: 10 <__main__.C object at 0x000002ADDEB39EF0>\n",
      "-----\n",
      "Hello <class '__main__.C'>\n",
      "-----\n",
      "<bound method C.f of <class '__main__.C'>>\n"
     ]
    }
   ],
   "source": [
    "\"\"\"\n",
    "Class methods\n",
    "\n",
    "Like normal method, but they get the class as the first argument not\n",
    "the instance.\n",
    "\n",
    "These are much like static methods, but are more powerful when used\n",
    "with derived classes.\n",
    "\"\"\"\n",
    "\n",
    "class C(object):\n",
    "    \"\"\"An example class.\"\"\"\n",
    "\n",
    "    @classmethod\n",
    "    def f(cls):\n",
    "        print(\"Hello\", cls)\n",
    "\n",
    "    offset = 100\n",
    "\n",
    "    def __init__(self, arg):\n",
    "        \"\"\"The constructor.\"\"\"\n",
    "        print(\"Creating C:\", arg, self)\n",
    "        self.arg = arg\n",
    "        self.lst = []\n",
    "\n",
    "    def process(self, v):\n",
    "        \"\"\"Process v through this class.\"\"\"\n",
    "        print(\"Processing:\", v, self)\n",
    "        return v ^ self.arg + self.offset\n",
    "\n",
    "C.f()\n",
    "print(\"-----\")\n",
    "a = C(10)\n",
    "print(\"-----\")\n",
    "a.f()\n",
    "print(\"-----\")\n",
    "print(C.f)"
   ]
  },
  {
   "cell_type": "code",
   "execution_count": 14,
   "metadata": {},
   "outputs": [
    {
     "name": "stdout",
     "output_type": "stream",
     "text": [
      "Creating C: 8 <__main__.D object at 0x000002ADDEB7EAC8>\n",
      "-----\n",
      "<__main__.D object at 0x000002ADDEB7EAC8> True True\n",
      "Creating C: 9 <__main__.D object at 0x000002ADDEC04048>\n"
     ]
    }
   ],
   "source": [
    "\"\"\"\n",
    "Inheritence\n",
    "\"\"\"\n",
    "\n",
    "class D(C):\n",
    "    \"\"\"An example class.\"\"\"\n",
    "    pass\n",
    "\n",
    "a = D(8)\n",
    "print(\"-----\")\n",
    "print(a, isinstance(a, C), isinstance(a, D))\n",
    "\n",
    "class D(C):\n",
    "    \"\"\"An example class.\"\"\"\n",
    "\n",
    "    offset = 5\n",
    "\n",
    "    def __init__(self, arg, mult):\n",
    "        super(D, self).__init__(arg + 1)\n",
    "        # Similar to: C.__init__(self, arg + 1)\n",
    "        self.mult = mult\n",
    "\n",
    "    def process(self, v):\n",
    "        res = super().process(v)\n",
    "        return res * self.mult\n",
    "\n",
    "a = D(8, 2)"
   ]
  },
  {
   "cell_type": "code",
   "execution_count": 17,
   "metadata": {},
   "outputs": [
    {
     "name": "stdout",
     "output_type": "stream",
     "text": [
      "(<class '__main__.D'>, <class '__main__.C'>, <class 'object'>)\n",
      "Hello <class '__main__.D'>\n",
      "Subclass\n",
      "Hello <class '__main__.D'>\n",
      "Subclass\n",
      "-----\n",
      "Hello <class '__main__.D'>\n",
      "Subclass\n",
      "-----\n",
      "Creating C: 8 <__main__.D object at 0x000002ADDEC11438>\n",
      "-----\n",
      "Hello <class '__main__.D'>\n",
      "Subclass\n",
      "-----\n",
      "Hello <class '__main__.C'>\n"
     ]
    }
   ],
   "source": [
    "\"\"\"\n",
    "Instead of the second case above looking up in just one class it looks\n",
    "up the attribute in a sequence of classes and returns the first it finds.\n",
    "mro: Method Resolution Order\n",
    "\"\"\"\n",
    "\n",
    "print(D.__mro__)\n",
    "\n",
    "\"\"\"\n",
    "Remember this sequence for later when we get into \n",
    "multiple inheritence.\n",
    "\"\"\"\n",
    "\n",
    "\"\"\"\n",
    "Class methods again\n",
    "\"\"\"\n",
    "\n",
    "D.f()\n",
    "a.f()\n",
    "\n",
    "class D(C):\n",
    "    \"\"\"An example class.\"\"\"\n",
    "\n",
    "    @classmethod\n",
    "    def f(cls):\n",
    "        super().f()\n",
    "        print(\"Subclass\")\n",
    "\n",
    "    def __init__(self, arg, mult):\n",
    "        super().__init__(arg)\n",
    "        self.mult = mult\n",
    "\n",
    "    def process(self, v):\n",
    "        res = super().process(v)\n",
    "        return res * self.mult\n",
    "print(\"-----\")\n",
    "D.f()\n",
    "print(\"-----\")\n",
    "a = D(8, 2)\n",
    "print(\"-----\")\n",
    "a.f()\n",
    "print(\"-----\")\n",
    "C.f()"
   ]
  },
  {
   "cell_type": "code",
   "execution_count": 26,
   "metadata": {},
   "outputs": [
    {
     "name": "stdout",
     "output_type": "stream",
     "text": [
      "(<class '__main__.A'>, <class 'object'>)\n",
      "(<class '__main__.B'>, <class '__main__.A'>, <class 'object'>)\n",
      "(<class '__main__.C'>, <class '__main__.A'>, <class 'object'>)\n",
      "(<class '__main__.D'>, <class '__main__.B'>, <class '__main__.C'>, <class '__main__.A'>, <class 'object'>)\n",
      "(<class '__main__.E'>, <class '__main__.C'>, <class '__main__.B'>, <class '__main__.A'>, <class 'object'>)\n"
     ]
    }
   ],
   "source": [
    "class A(object): pass\n",
    "class B(A): pass\n",
    "class C(A): pass\n",
    "class D(B, C): pass\n",
    "class E(C, B): pass\n",
    "\n",
    "print(A.__mro__)\n",
    "print(B.__mro__)\n",
    "print(C.__mro__)\n",
    "print(D.__mro__)\n",
    "print(E.__mro__)"
   ]
  },
  {
   "cell_type": "code",
   "execution_count": 2,
   "metadata": {},
   "outputs": [
    {
     "name": "stdout",
     "output_type": "stream",
     "text": [
      "42 43\n",
      "Base\n"
     ]
    }
   ],
   "source": [
    "\"\"\"\n",
    "Multiple inheritance\n",
    "\"\"\"\n",
    "\n",
    "class Base(object):\n",
    "    def fun(self):\n",
    "        print(\"Base\")\n",
    "\n",
    "class A(Base):\n",
    "    def f(self):\n",
    "        return 42\n",
    "\n",
    "class B(Base):\n",
    "    def g(self):\n",
    "        return 43\n",
    "\n",
    "class C(B, A):\n",
    "    pass\n",
    "\n",
    "c = C()\n",
    "print(c.f(), c.g())\n",
    "c.fun()"
   ]
  },
  {
   "cell_type": "code",
   "execution_count": 7,
   "metadata": {},
   "outputs": [
    {
     "name": "stdout",
     "output_type": "stream",
     "text": [
      "42 43\n",
      "C\n",
      "B\n",
      "A\n",
      "Base\n",
      "(<class '__main__.C'>, <class '__main__.B'>, <class '__main__.A'>, <class '__main__.Base'>, <class 'object'>)\n"
     ]
    }
   ],
   "source": [
    "\"\"\"######\n",
    "Multiple inheritance\n",
    "\n",
    "Python supports mix-in style inheritance.\n",
    "\"\"\"\n",
    "\n",
    "class Base(object):\n",
    "    def fun(self):\n",
    "        print(\"Base\")\n",
    "\n",
    "\n",
    "class A(Base):\n",
    "    def f(self):\n",
    "        return 42\n",
    "    def fun(self):\n",
    "        print(\"A\")\n",
    "        super().fun()\n",
    "\n",
    "class B(Base):\n",
    "    def g(self):\n",
    "        return 43\n",
    "    def fun(self):\n",
    "        print(\"B\")\n",
    "        super().fun()\n",
    "\n",
    "class C(B, A):\n",
    "    def fun(self):\n",
    "        print(\"C\")\n",
    "        super().fun()\n",
    "\n",
    "c = C()\n",
    "print(c.f(), c.g())\n",
    "\n",
    "c.fun()\n",
    "\n",
    "print(C.__mro__)"
   ]
  },
  {
   "cell_type": "code",
   "execution_count": 3,
   "metadata": {},
   "outputs": [
    {
     "name": "stdout",
     "output_type": "stream",
     "text": [
      "I am from class A\n",
      "(<class '__main__.D'>, <class '__main__.B'>, <class '__main__.A'>, <class '__main__.C'>, <class 'object'>)\n"
     ]
    }
   ],
   "source": [
    "class A(object):\n",
    "    def dothis(self):\n",
    "        print('I am from class A')\n",
    "\n",
    "class B(A):\n",
    "    pass\n",
    "\n",
    "class C(object):\n",
    "    def dothis(self):\n",
    "        print('I am from class C')\n",
    "\n",
    "class D(B, C):\n",
    "    pass\n",
    "\n",
    "d = D()\n",
    "d.dothis()\n",
    "print(D.mro())"
   ]
  },
  {
   "cell_type": "code",
   "execution_count": 8,
   "metadata": {},
   "outputs": [
    {
     "name": "stdout",
     "output_type": "stream",
     "text": [
      "Getting\n",
      "10\n",
      "Setting\n",
      "Getting\n",
      "99\n",
      "Getting\n",
      "True\n"
     ]
    }
   ],
   "source": [
    "class CC(object):\n",
    "    def __init__(self, v):\n",
    "        self._x = v\n",
    "\n",
    "    @property\n",
    "    def value(self):\n",
    "        print(\"Getting\")\n",
    "        return self._x\n",
    "\n",
    "    @value.setter\n",
    "    def value(self, v):\n",
    "        print(\"Setting\")\n",
    "        assert v < 100\n",
    "        self._x = v\n",
    "\n",
    "a = CC(10)\n",
    "print(a.value)\n",
    "\n",
    "a.value = 99\n",
    "print(a.value)\n",
    "\n",
    "print(hasattr(a, \"value\"))\n",
    "\n",
    "x = None"
   ]
  },
  {
   "cell_type": "code",
   "execution_count": null,
   "metadata": {},
   "outputs": [],
   "source": [
    "\"\"\"\n",
    "Object oriented concepts\n",
    "\n",
    "The is-a relationship:\n",
    "\"\"\"\n",
    "\n",
    "print(isinstance(x, int))\n",
    "# What does this mean?\n",
    "\n",
    "print(isinstance(x, A))\n",
    "# What does this mean?\n",
    "\n",
    "\"\"\"\n",
    "The subclass relationship:\n",
    "\"\"\"\n",
    "\n",
    "print(issubclass(C, A), issubclass(C, B))\n",
    "\n",
    "print(isinstance(C, A))\n",
    "\n",
    "x = C()\n",
    "\n",
    "print(isinstance(x, A))"
   ]
  },
  {
   "cell_type": "code",
   "execution_count": null,
   "metadata": {},
   "outputs": [],
   "source": [
    "\"\"\"\n",
    "Every C is-a A and every C is-a B.\n",
    "\"\"\"\n",
    "\n",
    "\"\"\"######\n",
    "has-a\n",
    "\"\"\"\n",
    "\n",
    "\"\"\"\n",
    "A has-a B\n",
    "B is-part-of A\n",
    "\"\"\"\n",
    "\n",
    "class A(object):\n",
    "    def __init__(self, b):\n",
    "        \"\"\"\n",
    "        b supports add and remove operations.\n",
    "        \"\"\"\n",
    "        assert hasattr(b, \"add\")\n",
    "        assert hasattr(b, \"remove\")\n",
    "        self._b = b"
   ]
  },
  {
   "cell_type": "code",
   "execution_count": null,
   "metadata": {},
   "outputs": [],
   "source": [
    "\"\"\"\n",
    "Designing a class\n",
    "\n",
    "Demo.\n",
    "\"\"\"\n",
    "\n",
    "# What am I designing?\n",
    "\n",
    "class OwnedThing():\n",
    "    def __init__(self, owner):\n",
    "        pass\n",
    "\n",
    "    def transfer_title(self, new_owner):\n",
    "        pass\n",
    "\n",
    "\n",
    "class Wheel(OwnedThing):\n",
    "    def __init__(self, owner):\n",
    "        super()._        super().__init__(owner)\n",
    "_init__(owner)\n",
    "        pass\n",
    "\n",
    "class Car(OwnedThing):\n",
    "    def __init__(self, owner):\n",
    "        super().__init__(owner)\n",
    "        self.wheels = [Wheel(owner) for i in range(4)]\n",
    "\n",
    "class Person():\n",
    "    def __init__(self):\n",
    "        self.cars = []"
   ]
  },
  {
   "cell_type": "code",
   "execution_count": null,
   "metadata": {},
   "outputs": [],
   "source": [
    "class Shape(object):\n",
    "    def area(self):\n",
    "        \"\"\"Compute the area of the shape.\"\"\"\n",
    "        raise NotImplementError()\n",
    "\n",
    "class Polygon(Shape):\n",
    "    pass\n",
    "\n",
    "class Rectangle(Polygon):\n",
    "    def __init__(self, width, height):\n",
    "        super().__init__()\n",
    "        self.width = width\n",
    "        self.height = height\n",
    "\n",
    "    def area(self, arg=None):\n",
    "        if arg != None:\n",
    "            return 42\n",
    "        return self.width * self.height\n"
   ]
  },
  {
   "cell_type": "code",
   "execution_count": null,
   "metadata": {},
   "outputs": [],
   "source": [
    "\"An animal shelter is a charity.\"\n",
    "\"An animal shelter has animals.\"\n",
    "\n",
    "\"An animal can bite.\"\n",
    "\n",
    "class Animal(object):\n",
    "    def bite(self, target):\n",
    "        pass\n",
    "\n",
    "class Dog(Animal):\n",
    "    pass\n",
    "\n",
    "class Beagle(Dog):\n",
    "    pass\n",
    "\n",
    "class AnimalShelter(Charity):\n",
    "    def __init__(self):\n",
    "        self.animals = []\n"
   ]
  }
 ],
 "metadata": {
  "kernelspec": {
   "display_name": "Python 3",
   "language": "python",
   "name": "python3"
  },
  "language_info": {
   "codemirror_mode": {
    "name": "ipython",
    "version": 3
   },
   "file_extension": ".py",
   "mimetype": "text/x-python",
   "name": "python",
   "nbconvert_exporter": "python",
   "pygments_lexer": "ipython3",
   "version": "3.7.1"
  }
 },
 "nbformat": 4,
 "nbformat_minor": 2
}
