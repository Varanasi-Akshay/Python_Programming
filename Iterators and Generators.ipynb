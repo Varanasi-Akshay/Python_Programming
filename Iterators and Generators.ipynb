{
 "cells": [
  {
   "cell_type": "markdown",
   "metadata": {},
   "source": [
    "### Strings - Immutable. Containers - Mutable"
   ]
  },
  {
   "cell_type": "code",
   "execution_count": 1,
   "metadata": {},
   "outputs": [
    {
     "name": "stdout",
     "output_type": "stream",
     "text": [
      "This supports Unicode: 穫\n",
      "'T' '穫'\n",
      "True\n",
      "6\n",
      "True\n",
      "This supports Unicode: 穫. This.\n",
      "This supports Unicode: 穫\n"
     ]
    }
   ],
   "source": [
    "s = \"This supports Unicode: 穫\"\n",
    "print(s)\n",
    "\n",
    "print(repr(s[0]), repr(s[-1]))\n",
    "print(\"up\" in s)\n",
    "print(s.find(\"up\"))\n",
    "print(s.startswith(\"This\"))\n",
    "\n",
    "s_old = s\n",
    "\n",
    "s += \". This.\"\n",
    "\n",
    "print(s)\n",
    "print(s_old)"
   ]
  },
  {
   "cell_type": "code",
   "execution_count": 2,
   "metadata": {},
   "outputs": [
    {
     "name": "stdout",
     "output_type": "stream",
     "text": [
      "FooFoo Foo\n"
     ]
    }
   ],
   "source": [
    "a = \"Foo\"\n",
    "# a now points to \"Foo\"\n",
    "b = a\n",
    "# b points to the same \"Foo\" that a points to\n",
    "a = a + a\n",
    "# a points to the new string \"FooFoo\", but b still points to the old \"Foo\"\n",
    "\n",
    "print(a, b)"
   ]
  },
  {
   "cell_type": "markdown",
   "metadata": {},
   "source": [
    "### String Formatting\n",
    "\n",
    "#### https://realpython.com/python-f-strings/"
   ]
  },
  {
   "cell_type": "code",
   "execution_count": 3,
   "metadata": {},
   "outputs": [
    {
     "name": "stdout",
     "output_type": "stream",
     "text": [
      "test 1.00000\n",
      "test 1.00000\n",
      "\n",
      "\"test2\" test2 2.00000\n",
      "test2 test2 2.00000\n",
      "test2 test2+'aa'12 2.00000\n",
      "\n",
      "1 : test\n",
      "\n",
      "begin test end\n",
      "test: 1, test: 2\n"
     ]
    }
   ],
   "source": [
    "# Old style\n",
    "print(\"%s %.5f\" % (\"test\", 1))\n",
    "print(\"{} {:.5f}\".format(\"test\", 1))\n",
    "\n",
    "print(\"\"\"\n",
    "\"{label}\" {label} {num:.5f}\n",
    "{label} {label} {num:.5f}\n",
    "{label} {label}+'aa'12 {num:.5f}\n",
    "\"\"\".format(label=\"test2\", num=2))\n",
    "\n",
    "print(\"{1} : {0}\".format('test', 1))\n",
    "\n",
    "# New style\n",
    "\n",
    "# f-strings are expressions evaluated \n",
    "# at runtime rather than constant values\n",
    "\n",
    "label = \"test\"\n",
    "num = 1\n",
    "print(f\"\\nbegin {label} end\")\n",
    "\n",
    "print(f\"{label}: {num}, \"\n",
    "     f\"{label}: {num+1}\")"
   ]
  },
  {
   "cell_type": "markdown",
   "metadata": {},
   "source": [
    "### Bytes"
   ]
  },
  {
   "cell_type": "code",
   "execution_count": 17,
   "metadata": {},
   "outputs": [
    {
     "name": "stdout",
     "output_type": "stream",
     "text": [
      "97\n",
      "'This supports Unicode: 穫'\n",
      "b'This supports Unicode: \\xe7\\xa9\\xab'\n",
      "b'\\xff\\xfeT\\x00h\\x00i\\x00s\\x00 \\x00s\\x00u\\x00p\\x00p\\x00o\\x00r\\x00t\\x00s\\x00 \\x00U\\x00n\\x00i\\x00c\\x00o\\x00d\\x00e\\x00:\\x00 \\x00kz'\n"
     ]
    }
   ],
   "source": [
    "b = b\"abc\"\n",
    "print(b[0])\n",
    "\n",
    "s = \"This supports Unicode: 穫\"\n",
    "print(repr(s))\n",
    "\n",
    "print(bytes(s, \"utf-8\"))\n",
    "print(bytes(s, \"utf-16\"))"
   ]
  },
  {
   "cell_type": "markdown",
   "metadata": {},
   "source": [
    "### Iterators"
   ]
  },
  {
   "cell_type": "code",
   "execution_count": 23,
   "metadata": {},
   "outputs": [
    {
     "name": "stdout",
     "output_type": "stream",
     "text": [
      "1\t2\t3\t"
     ]
    }
   ],
   "source": [
    "for x in [1,2,3]:\n",
    "    print(x, end='\\t')"
   ]
  },
  {
   "cell_type": "code",
   "execution_count": 5,
   "metadata": {},
   "outputs": [
    {
     "name": "stdout",
     "output_type": "stream",
     "text": [
      "<list_iterator object at 0x0000022DEC81B2E8>\n",
      "1\n",
      "2\n",
      "3\n",
      "Done\n"
     ]
    }
   ],
   "source": [
    "# Iterables: Provide an iterator\n",
    "l = [1, 2, 3]\n",
    "it = iter(l)\n",
    "print(it)\n",
    "# print(tuple(it))\n",
    "\n",
    "# Iterators: Provide a stream of results\n",
    "print(next(it))\n",
    "\n",
    "# list.insert(index, elem)\n",
    "# l.insert(0, 4)\n",
    "print(next(it))\n",
    "print(next(it))\n",
    "try:\n",
    "    print(next(it))\n",
    "except StopIteration:\n",
    "    print(\"Done\")"
   ]
  },
  {
   "cell_type": "code",
   "execution_count": 11,
   "metadata": {},
   "outputs": [
    {
     "name": "stdout",
     "output_type": "stream",
     "text": [
      "True\n",
      "<range_iterator object at 0x0000022DEC81E130>\n",
      "[0, 1, 2, 3, 4, 5, 6, 7, 8, 9]\n",
      "[]\n",
      "[]\n"
     ]
    }
   ],
   "source": [
    "# This is (effectively) what for loops do\n",
    "# Anything supporting the iterable API can be used in a for loop\n",
    "# Iterators are iterables\n",
    "\n",
    "print(iter(it) is it)\n",
    "\n",
    "r = iter(range(10))\n",
    "print(r)\n",
    "\n",
    "print(list(r))\n",
    "print(list(r))\n",
    "print(list(r))"
   ]
  },
  {
   "cell_type": "code",
   "execution_count": 1,
   "metadata": {},
   "outputs": [
    {
     "name": "stdout",
     "output_type": "stream",
     "text": [
      "range(0, 100000000000000000000000)\n",
      "<longrange_iterator object at 0x0000023EDE718E40>\n"
     ]
    }
   ],
   "source": [
    "r = range(100000000000000000000000) # list(r)\n",
    "print(r)\n",
    "print(iter(r))"
   ]
  },
  {
   "cell_type": "markdown",
   "metadata": {},
   "source": [
    "#### https://realpython.com/python-itertools/\n",
    "#### https://docs.python.org/3.6/library/itertools.html"
   ]
  },
  {
   "cell_type": "code",
   "execution_count": 13,
   "metadata": {},
   "outputs": [
    {
     "name": "stdout",
     "output_type": "stream",
     "text": [
      "0\n",
      "1\n",
      "2\n",
      "3\n",
      "4\n",
      "5\n",
      "6\n",
      "7\n",
      "8\n",
      "9\n",
      "10\n",
      "12\n",
      "14\n",
      "16\n",
      "18\n",
      "20\n",
      "22\n",
      "24\n",
      "26\n",
      "28\n",
      "30\n"
     ]
    }
   ],
   "source": [
    "import itertools\n",
    "\n",
    "r = range(100)\n",
    "for i in itertools.islice(r, 10):\n",
    "    print(i)\n",
    "\n",
    "for i in itertools.islice(r, 10, 31, 2):\n",
    "    print(i)"
   ]
  },
  {
   "cell_type": "markdown",
   "metadata": {},
   "source": [
    "### Generators"
   ]
  },
  {
   "cell_type": "code",
   "execution_count": 14,
   "metadata": {},
   "outputs": [
    {
     "name": "stdout",
     "output_type": "stream",
     "text": [
      "<generator object <genexpr> at 0x0000022DEC89DDE0>\n",
      "6\n",
      "17\n"
     ]
    },
    {
     "ename": "StopIteration",
     "evalue": "",
     "output_type": "error",
     "traceback": [
      "\u001b[1;31m---------------------------------------------------------------------------\u001b[0m",
      "\u001b[1;31mStopIteration\u001b[0m                             Traceback (most recent call last)",
      "\u001b[1;32m<ipython-input-14-0c7f6ad3d1a7>\u001b[0m in \u001b[0;36m<module>\u001b[1;34m\u001b[0m\n\u001b[0;32m      7\u001b[0m \u001b[0mprint\u001b[0m\u001b[1;33m(\u001b[0m\u001b[0mnext\u001b[0m\u001b[1;33m(\u001b[0m\u001b[0mit\u001b[0m\u001b[1;33m)\u001b[0m\u001b[1;33m)\u001b[0m\u001b[1;33m\u001b[0m\u001b[1;33m\u001b[0m\u001b[0m\n\u001b[0;32m      8\u001b[0m \u001b[0mprint\u001b[0m\u001b[1;33m(\u001b[0m\u001b[0mnext\u001b[0m\u001b[1;33m(\u001b[0m\u001b[0mit\u001b[0m\u001b[1;33m)\u001b[0m\u001b[1;33m)\u001b[0m\u001b[1;33m\u001b[0m\u001b[1;33m\u001b[0m\u001b[0m\n\u001b[1;32m----> 9\u001b[1;33m \u001b[0mprint\u001b[0m\u001b[1;33m(\u001b[0m\u001b[0mnext\u001b[0m\u001b[1;33m(\u001b[0m\u001b[0mit\u001b[0m\u001b[1;33m)\u001b[0m\u001b[1;33m)\u001b[0m\u001b[1;33m\u001b[0m\u001b[1;33m\u001b[0m\u001b[0m\n\u001b[0m",
      "\u001b[1;31mStopIteration\u001b[0m: "
     ]
    }
   ],
   "source": [
    "d = {1: 5, 2: 15}\n",
    "it = (k + v for k, v in d.items())\n",
    "print(it)\n",
    "\n",
    "# [6, 17]\n",
    "\n",
    "print(next(it))\n",
    "print(next(it))\n",
    "print(next(it))"
   ]
  },
  {
   "cell_type": "code",
   "execution_count": 10,
   "metadata": {},
   "outputs": [
    {
     "name": "stdout",
     "output_type": "stream",
     "text": [
      "in loop 6\n",
      "in loop 17\n",
      "dictionary changed size during iteration\n"
     ]
    }
   ],
   "source": [
    "d = {1: 5, 2: 15}\n",
    "it = (k + v for k, v in d.items())\n",
    "for x in it:\n",
    "    print(\"in loop\", x)"
   ]
  },
  {
   "cell_type": "code",
   "execution_count": 17,
   "metadata": {},
   "outputs": [
    {
     "name": "stdout",
     "output_type": "stream",
     "text": [
      "dictionary changed size during iteration\n"
     ]
    }
   ],
   "source": [
    "d = {1: 5, 2: 15}\n",
    "\n",
    "try:\n",
    "    it = (k + v for k, v in d.items())\n",
    "    for v in it:\n",
    "        d[v] = v\n",
    "except RuntimeError as e:\n",
    "    # Why does this raise an exception?\n",
    "    print(e)"
   ]
  },
  {
   "cell_type": "code",
   "execution_count": 18,
   "metadata": {},
   "outputs": [
    {
     "name": "stdout",
     "output_type": "stream",
     "text": [
      "[6, 17]\n",
      "{1: 5, 2: 15, 6: 6, 17: 17}\n"
     ]
    }
   ],
   "source": [
    "d = {1: 5, 2: 15}\n",
    "l = list(k + v for k, v in d.items())\n",
    "print(l)\n",
    "for v in l:\n",
    "    d[v] = v\n",
    "print(d)"
   ]
  },
  {
   "cell_type": "code",
   "execution_count": 19,
   "metadata": {},
   "outputs": [
    {
     "ename": "RuntimeError",
     "evalue": "dictionary changed size during iteration",
     "output_type": "error",
     "traceback": [
      "\u001b[1;31m---------------------------------------------------------------------------\u001b[0m",
      "\u001b[1;31mRuntimeError\u001b[0m                              Traceback (most recent call last)",
      "\u001b[1;32m<ipython-input-19-f712bfea57d8>\u001b[0m in \u001b[0;36m<module>\u001b[1;34m\u001b[0m\n\u001b[0;32m      1\u001b[0m \u001b[0md\u001b[0m \u001b[1;33m=\u001b[0m \u001b[1;33m{\u001b[0m\u001b[1;34m'a'\u001b[0m\u001b[1;33m:\u001b[0m \u001b[1;33m[\u001b[0m\u001b[1;36m1\u001b[0m\u001b[1;33m]\u001b[0m\u001b[1;33m,\u001b[0m \u001b[1;34m'b'\u001b[0m\u001b[1;33m:\u001b[0m \u001b[1;33m[\u001b[0m\u001b[1;36m1\u001b[0m\u001b[1;33m,\u001b[0m \u001b[1;36m2\u001b[0m\u001b[1;33m]\u001b[0m\u001b[1;33m,\u001b[0m \u001b[1;34m'c'\u001b[0m\u001b[1;33m:\u001b[0m \u001b[1;33m[\u001b[0m\u001b[1;33m]\u001b[0m\u001b[1;33m,\u001b[0m \u001b[1;34m'd'\u001b[0m\u001b[1;33m:\u001b[0m\u001b[1;33m[\u001b[0m\u001b[1;33m]\u001b[0m\u001b[1;33m}\u001b[0m\u001b[1;33m\u001b[0m\u001b[1;33m\u001b[0m\u001b[0m\n\u001b[1;32m----> 2\u001b[1;33m \u001b[1;32mfor\u001b[0m \u001b[0mi\u001b[0m \u001b[1;32min\u001b[0m \u001b[0md\u001b[0m\u001b[1;33m:\u001b[0m\u001b[1;33m\u001b[0m\u001b[1;33m\u001b[0m\u001b[0m\n\u001b[0m\u001b[0;32m      3\u001b[0m     \u001b[1;32mif\u001b[0m \u001b[1;32mnot\u001b[0m \u001b[0md\u001b[0m\u001b[1;33m[\u001b[0m\u001b[0mi\u001b[0m\u001b[1;33m]\u001b[0m\u001b[1;33m:\u001b[0m\u001b[1;33m\u001b[0m\u001b[1;33m\u001b[0m\u001b[0m\n\u001b[0;32m      4\u001b[0m         \u001b[0md\u001b[0m\u001b[1;33m.\u001b[0m\u001b[0mpop\u001b[0m\u001b[1;33m(\u001b[0m\u001b[0mi\u001b[0m\u001b[1;33m)\u001b[0m\u001b[1;33m\u001b[0m\u001b[1;33m\u001b[0m\u001b[0m\n",
      "\u001b[1;31mRuntimeError\u001b[0m: dictionary changed size during iteration"
     ]
    }
   ],
   "source": [
    "d = {'a': [1], 'b': [1, 2], 'c': [], 'd':[]}\n",
    "for i in d:\n",
    "    if not d[i]:\n",
    "        d.pop(i)"
   ]
  },
  {
   "cell_type": "code",
   "execution_count": 20,
   "metadata": {},
   "outputs": [
    {
     "name": "stdout",
     "output_type": "stream",
     "text": [
      "{'a': [1], 'b': [1, 2]}\n"
     ]
    }
   ],
   "source": [
    "d = {'a': [1], 'b': [1, 2], 'c': [], 'd':[]}\n",
    "for i in list(d):\n",
    "    if not d[i]:\n",
    "        d.pop(i)\n",
    "print(d)"
   ]
  },
  {
   "cell_type": "code",
   "execution_count": 29,
   "metadata": {},
   "outputs": [
    {
     "name": "stdout",
     "output_type": "stream",
     "text": [
      "<class 'list'> [6, 17]\n"
     ]
    }
   ],
   "source": [
    "d = {1: 5, 2: 15}\n",
    "assert [k + v for k, v in d.items()] == list(k + v for k, v in d.items())\n",
    "assert {k + v for k, v in d.items()} == set(k + v for k, v in d.items())\n",
    "assert {k: k + v for k, v in d.items()} == dict((k, k + v) for k, v in d.items())\n",
    "a = [k + v for k, v in d.items()]\n",
    "print(type(a), a)"
   ]
  },
  {
   "cell_type": "code",
   "execution_count": 33,
   "metadata": {},
   "outputs": [
    {
     "name": "stdout",
     "output_type": "stream",
     "text": [
      "True True True\n"
     ]
    }
   ],
   "source": [
    "import collections, types\n",
    "\n",
    "# Iterators are objects that have an __iter__ and a __next__\n",
    "a = issubclass(collections.Iterator, collections.Iterable)\n",
    "b = issubclass(types.GeneratorType, collections.Iterator)\n",
    "c = issubclass(types.GeneratorType, collections.Iterable)\n",
    "print(a, b, c)"
   ]
  }
 ],
 "metadata": {
  "kernelspec": {
   "display_name": "Python 3",
   "language": "python",
   "name": "python3"
  },
  "language_info": {
   "codemirror_mode": {
    "name": "ipython",
    "version": 3
   },
   "file_extension": ".py",
   "mimetype": "text/x-python",
   "name": "python",
   "nbconvert_exporter": "python",
   "pygments_lexer": "ipython3",
   "version": "3.7.1"
  }
 },
 "nbformat": 4,
 "nbformat_minor": 2
}
