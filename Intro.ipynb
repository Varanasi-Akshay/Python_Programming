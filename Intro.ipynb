{
 "cells": [
  {
   "cell_type": "markdown",
   "metadata": {},
   "source": [
    "## Why Python?\n",
    "\n",
    "- Interpreted\n",
    "- Interactive\n",
    "- Object Oriented\n",
    "- High Level Language\n",
    "- Highly Dynamic\n",
    "- Beginner Friendly\n",
    "- Well known and Commonly used\n",
    "- Active Community Support"
   ]
  },
  {
   "cell_type": "code",
   "execution_count": 2,
   "metadata": {},
   "outputs": [
    {
     "ename": "AssertionError",
     "evalue": "Upgrade Python",
     "output_type": "error",
     "traceback": [
      "\u001b[1;31m---------------------------------------------------------------------------\u001b[0m",
      "\u001b[1;31mAssertionError\u001b[0m                            Traceback (most recent call last)",
      "\u001b[1;32m<ipython-input-2-52c63519655b>\u001b[0m in \u001b[0;36m<module>\u001b[1;34m\u001b[0m\n\u001b[0;32m      4\u001b[0m \u001b[1;34m\"\"\"Python version >= 3.6\"\"\"\u001b[0m\u001b[1;33m\u001b[0m\u001b[1;33m\u001b[0m\u001b[0m\n\u001b[0;32m      5\u001b[0m assert (sys.version_info.major == 3 and\n\u001b[1;32m----> 6\u001b[1;33m         sys.version_info.minor >= 8), \"Upgrade Python\"\n\u001b[0m",
      "\u001b[1;31mAssertionError\u001b[0m: Upgrade Python"
     ]
    }
   ],
   "source": [
    "import sys\n",
    "import os\n",
    "\n",
    "\"\"\"Python version >= 3.6\"\"\"\n",
    "assert (sys.version_info.major == 3 and\n",
    "        sys.version_info.minor >= 8), \"Upgrade Python\""
   ]
  },
  {
   "cell_type": "code",
   "execution_count": 8,
   "metadata": {},
   "outputs": [
    {
     "name": "stdout",
     "output_type": "stream",
     "text": [
      "Hello World!\n",
      "-------\n",
      "I'm learning C++!\n",
      "I'm learning Java!\n",
      "I'm learning Python!\n",
      "-------\n",
      "That's a lot of languages.\n",
      "-------\n",
      "C++\n",
      "Java\n",
      "Python\n",
      "-------\n",
      "C++\n",
      "Java\n",
      "Python\n",
      "-------\n",
      "C++, Java, Python\n",
      "C++---Java---Python\n",
      "-------\n",
      "C++ Java Python\n"
     ]
    }
   ],
   "source": [
    "# Function calls\n",
    "print(\"Hello World!\")\n",
    "print(\"-------\")\n",
    "\n",
    "languages = [\"C++\", \"Java\", \"Python\"]\n",
    "langs = (\"a\",\"b\",\"c\")\n",
    "l = {'a':1,'b':2}\n",
    "\n",
    "def learn(lang):\n",
    "    print(\"I'm learning {}!\".format(lang))\n",
    "\n",
    "for lang in languages:\n",
    "    learn(lang)\n",
    "print(\"-------\")\n",
    "\n",
    "if len(languages) > 2:\n",
    "    print(\"That's a lot of languages.\")\n",
    "elif True:\n",
    "    pass\n",
    "else:\n",
    "    pass\n",
    "print(\"-------\")\n",
    "\n",
    "# Different variants of printing\n",
    "for lang in languages:\n",
    "    print(lang)\n",
    "print(\"-------\")\n",
    "\n",
    "for i in range(len(languages)):\n",
    "    print(languages[i])\n",
    "print(\"-------\")\n",
    "\n",
    "# Methods on objects\n",
    "print(\", \".join(languages))\n",
    "print(*languages, sep='---')\n",
    "print(\"-------\")\n",
    "print(*languages)"
   ]
  },
  {
   "cell_type": "code",
   "execution_count": 5,
   "metadata": {},
   "outputs": [
    {
     "name": "stdout",
     "output_type": "stream",
     "text": [
      "b'\\x03\\x00\\x00'\n"
     ]
    }
   ],
   "source": [
    "print((3).to_bytes(3, byteorder=\"little\"))"
   ]
  },
  {
   "cell_type": "code",
   "execution_count": 9,
   "metadata": {},
   "outputs": [
    {
     "name": "stdout",
     "output_type": "stream",
     "text": [
      "5\n",
      "what just happened\n"
     ]
    }
   ],
   "source": [
    "# Dynamic Typing --  assigning names to objects\n",
    "variable = 5 #  integer object with the value 5 and bind the name 'variable' to it\n",
    "print(variable)\n",
    "variable = 'what just happened' #  string object with value \"...\" and rebind the name 'variable' to it\n",
    "print(variable)\n",
    "# Objects don't change type"
   ]
  },
  {
   "cell_type": "code",
   "execution_count": 10,
   "metadata": {},
   "outputs": [
    {
     "name": "stdout",
     "output_type": "stream",
     "text": [
      "Duck flying\n",
      "Airplane flying\n"
     ]
    },
    {
     "ename": "AttributeError",
     "evalue": "'Whale' object has no attribute 'fly'",
     "output_type": "error",
     "traceback": [
      "\u001b[1;31m---------------------------------------------------------------------------\u001b[0m",
      "\u001b[1;31mAttributeError\u001b[0m                            Traceback (most recent call last)",
      "\u001b[1;32m<ipython-input-10-64982b9db115>\u001b[0m in \u001b[0;36m<module>\u001b[1;34m\u001b[0m\n\u001b[0;32m     17\u001b[0m \u001b[1;33m\u001b[0m\u001b[0m\n\u001b[0;32m     18\u001b[0m \u001b[1;32mfor\u001b[0m \u001b[0manimal\u001b[0m \u001b[1;32min\u001b[0m \u001b[0mDuck\u001b[0m\u001b[1;33m(\u001b[0m\u001b[1;33m)\u001b[0m\u001b[1;33m,\u001b[0m \u001b[0mAirplane\u001b[0m\u001b[1;33m(\u001b[0m\u001b[1;33m)\u001b[0m\u001b[1;33m,\u001b[0m \u001b[0mWhale\u001b[0m\u001b[1;33m(\u001b[0m\u001b[1;33m)\u001b[0m\u001b[1;33m:\u001b[0m\u001b[1;33m\u001b[0m\u001b[1;33m\u001b[0m\u001b[0m\n\u001b[1;32m---> 19\u001b[1;33m     \u001b[0manimal\u001b[0m\u001b[1;33m.\u001b[0m\u001b[0mfly\u001b[0m\u001b[1;33m(\u001b[0m\u001b[1;33m)\u001b[0m\u001b[1;33m\u001b[0m\u001b[1;33m\u001b[0m\u001b[0m\n\u001b[0m",
      "\u001b[1;31mAttributeError\u001b[0m: 'Whale' object has no attribute 'fly'"
     ]
    }
   ],
   "source": [
    "# Duck Typing - It doesn't actually matter what type my data is \n",
    "# just whether or not I can do what I want with it.\n",
    "\n",
    "class Duck:\n",
    "    def fly(self):\n",
    "        print(\"Duck flying\")\n",
    "\n",
    "class Airplane:\n",
    "    def fly(self):\n",
    "        print(\"Airplane flying\")\n",
    "\n",
    "class Whale:\n",
    "    def swim(self):\n",
    "        print(\"Whale swimming\")\n",
    "    #def fly(self):\n",
    "    #    print(\"Whale not flying :(\")\n",
    "\n",
    "for animal in Duck(), Airplane(), Whale():\n",
    "    animal.fly()"
   ]
  },
  {
   "cell_type": "code",
   "execution_count": 18,
   "metadata": {},
   "outputs": [
    {
     "name": "stdout",
     "output_type": "stream",
     "text": [
      "9.0\n",
      "5.0\n",
      "10\n"
     ]
    }
   ],
   "source": [
    "# Python is strongly typed\n",
    "x = 5.0 #\"Hello World!\"\n",
    "y = 4\n",
    "print(x + y)\n",
    "\n",
    "print(x)\n",
    "x = 10\n",
    "print(x)"
   ]
  },
  {
   "cell_type": "markdown",
   "metadata": {},
   "source": [
    "## Basic data types\n",
    "\n",
    "- Integers (5)\n",
    "- Floats (5.0)\n",
    "- Complex (5+2j)\n",
    "- Strings ('5')\n",
    "- Raw Strings (r'5')\n",
    "- Boolean (True, False)\n",
    "- Extras"
   ]
  },
  {
   "cell_type": "code",
   "execution_count": 24,
   "metadata": {},
   "outputs": [
    {
     "name": "stdout",
     "output_type": "stream",
     "text": [
      "True False False\n",
      "-------\n",
      "x is true-ish\n",
      "-------\n",
      "0.32\n",
      "0\n",
      "-------\n",
      "2716923932235892457383088121947577188964315018836572803722354774868894945523768158997885697298661429053421034015406256924859461187617653889457753593083386399572063538500432650176144488046171044844121805479607648086607018742077798375087855857012278053105042704758822511824867218226931719410407150364389665913091822576819072281835735365786202176167228686198158460724641052407506305826211156964723064441295969498221919251479211700941935114755531972677360157561485144237786816579422141378066423317811515462669946309306263409027388915931082226854264858661420878279983534424128672461206356847463821364630504359665171573635397346037274752410368174877433941234543153511100471651472869116068528478976916600585383497180172395573924789047989563714318957536493108041591460911612078698461739084741934442448701416575483263891529095158013233115648534154086009312190489168546024398834243847135102411661996020129557921444666343641039137906807591342742464200991933722791531063202677650581946360422027765645970182463780273161113009717582155489902677095053354207944772439271656447869921825959042801322775729022491402012084605367784456090892987682547811360481731795980637847551788259384243997341190753089343387201753821360405430310320564488741142120089460368986590136324737459372963666586532443570474179352656517635333744783401695951969936296323256525034685525470426185224036844803487442831639483152362831735350269624668701702424450940840884555271325190876102665277858154695092765613639718577127438538649414492678358762110235621776218781360881010654696273264706319088453035858355052988808507775439561385232652305316287705653436727647681405618323757201022946801118770148072424021385261829594248369890171583993147934044232792517118743393217276416179842097554494269012251329134783596037733973478306188255291484352384699871420472711423079586319041837563678498472779422282261024744394844558738378027105699691260086532632930941478779680554645850778168703661423819000515895232903243738763481571999080702098369316199601942246247887808385073821861517636839926907458184604648942036355256683219218129910422822177336785268627274482037476294341444562207197209503659518266210432791078248321015453218019586608696207295299183111963158564162419152742807437346241667671688466998244424726765837682151606230638111654756595917019206453978024157097042546937345673337179165242325399648121877178987723999503839197328183925340949191821443698275476295245249466361817367207248089144718808572152781037112209285944844021186534832159964297181970584453756163204297111185823467744743465840230098261424789313315093951766314459027947176701489215746884363426961577348384651887153140609616362927338107686794499974902581579897076172716541504294334300741444106749994715713419630688719451362658288812132056854807330827050505064714442618243101018812153563795539024370219967801515099970721926240625418512417940854760415566229746248973756297569452302821563467574313259066016089521122779204844875998864114930516063910324359331903843040069467324167490917499501000001\n",
      "(34, 'Result too large')\n",
      "integer division result too large for a float\n",
      "-------\n",
      "abc abc abc 'abc'\n",
      "-------\n",
      "\"\"\"\n",
      "\"\"\"\n",
      "A string\n",
      "with a new line\n",
      "A string with no new line\n"
     ]
    }
   ],
   "source": [
    "# Booleans\n",
    "x = True or False\n",
    "y = True and False\n",
    "z = not True\n",
    "\n",
    "print(x, y, z)\n",
    "print(\"-------\")\n",
    "\n",
    "x = \"false\"\n",
    "\n",
    "if x:\n",
    "    print(\"x is true-ish\")\n",
    "else:\n",
    "    print(\"x is false-ish\")\n",
    "print(\"-------\")\n",
    "\n",
    "# Numbers\n",
    "\n",
    "x = 2 + 5\n",
    "x = 6 * 9\n",
    "x = 32 / 100\n",
    "\n",
    "# \"True\" division\n",
    "print(32 / 100)\n",
    "# Integer division\n",
    "print(32 // 100)\n",
    "print(\"-------\")\n",
    "\n",
    "# Integers are arbitrary persision\n",
    "print(1001 ** 1000)\n",
    "# Floats are not\n",
    "try:\n",
    "    print(1001.0 ** 1000)\n",
    "except Exception as e:\n",
    "    print(e)\n",
    "\n",
    "try:\n",
    "    print((1001 ** 1000) / 10)\n",
    "except Exception as e:\n",
    "    print(e)\n",
    "print(\"-------\")\n",
    "\n",
    "#Strings\n",
    "\n",
    "s1 = \"abc\"\n",
    "s2 = 'abc'\n",
    "s3 = \"\"\"abc\"\"\"\n",
    "s4 = \"'abc'\"\n",
    "print(s1, s2, s3, s4)\n",
    "print(\"-------\")\n",
    "\n",
    "print(\"\\\"\\\"\\\"\")\n",
    "print('\"\"\"')\n",
    "print(\"\"\"A string\n",
    "with a new line\"\"\")\n",
    "print(\"\"\"Another string \\\n",
    "with no new line\"\"\")"
   ]
  },
  {
   "cell_type": "code",
   "execution_count": 27,
   "metadata": {},
   "outputs": [
    {
     "name": "stdout",
     "output_type": "stream",
     "text": [
      "method1\n",
      "main code\n"
     ]
    }
   ],
   "source": [
    "# Python executes in Order\n",
    "\n",
    "def main():\n",
    "    print(\"main code\")\n",
    "\n",
    "def method1():\n",
    "    print(\"method1\")\n",
    "\n",
    "method1()\n",
    "\n",
    "if __name__ == \"__main__\":\n",
    "    main()"
   ]
  },
  {
   "cell_type": "code",
   "execution_count": 28,
   "metadata": {},
   "outputs": [
    {
     "name": "stdout",
     "output_type": "stream",
     "text": [
      "Hello\n",
      "__name__ value:  __main__\n",
      "python main function\n"
     ]
    }
   ],
   "source": [
    "print(\"Hello\")\n",
    "\n",
    "print(\"__name__ value: \", __name__)\n",
    "\n",
    "def main():\n",
    "    print(\"python main function\")\n",
    "\n",
    "if __name__ == '__main__': # assign value __main__ to __name__ \n",
    "    main()"
   ]
  },
  {
   "cell_type": "markdown",
   "metadata": {},
   "source": [
    "## Sample Assignment Format\n",
    "\n",
    "- Assignment automatically checked using UnitTest module in Python\n",
    "- Will use assert to test runs\n",
    "- Use Pep-8 format"
   ]
  },
  {
   "cell_type": "code",
   "execution_count": 36,
   "metadata": {},
   "outputs": [
    {
     "name": "stdout",
     "output_type": "stream",
     "text": [
      "Passed\n"
     ]
    }
   ],
   "source": [
    "import sys\n",
    "\n",
    "if sys.version_info[0] < 3 or (sys.version_info[0] == 3 and sys.version_info[1] < 6):\n",
    "    raise Exception(\"Must be using Python 3.6 or greater\")\n",
    "    \n",
    "def add_nums(a, b):\n",
    "    return a + b\n",
    "\n",
    "def add_list(c):\n",
    "    pass\n",
    "    #return sum(c)\n",
    "\n",
    "def add_tuple(d):\n",
    "    return sum(d)\n",
    "\n",
    "def test_suite():\n",
    "    # roundabout way of testing\n",
    "    # we will later study about unittests\n",
    "    # and make it easier\n",
    "    if add_nums(5, 6) == 11:\n",
    "        print(\"Passed\")\n",
    "    else:\n",
    "        print(\"Failed\")\n",
    "    \n",
    "    assert add_nums(2, 3) == 5, \"Error in addition\"\n",
    "    assert add_list([1, 2, 3]) == 6, \"Error in addition\"\n",
    "    assert add_tuple((1, 2, 3)) == 6, \"Error in addition\"\n",
    "\n",
    "if __name__ == \"__main__\":\n",
    "    test_suite()"
   ]
  }
 ],
 "metadata": {
  "kernelspec": {
   "display_name": "Python 3",
   "language": "python",
   "name": "python3"
  },
  "language_info": {
   "codemirror_mode": {
    "name": "ipython",
    "version": 3
   },
   "file_extension": ".py",
   "mimetype": "text/x-python",
   "name": "python",
   "nbconvert_exporter": "python",
   "pygments_lexer": "ipython3",
   "version": "3.7.3"
  }
 },
 "nbformat": 4,
 "nbformat_minor": 2
}
