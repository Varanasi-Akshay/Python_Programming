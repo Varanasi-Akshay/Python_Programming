{
 "cells": [
  {
   "cell_type": "code",
   "execution_count": 1,
   "metadata": {},
   "outputs": [
    {
     "name": "stdout",
     "output_type": "stream",
     "text": [
      "<function f at 0x000001F3B1EF3C80>\n",
      "test\n",
      "----\n",
      "<function f at 0x000001F3B1EF39D8>\n"
     ]
    }
   ],
   "source": [
    "def decorator(func):\n",
    "    print(func)\n",
    "    return \"test\"\n",
    "\n",
    "@decorator\n",
    "def f():\n",
    "    pass\n",
    "\n",
    "print(f)\n",
    "print(\"----\")\n",
    "\n",
    "def decorator(func):\n",
    "    return func\n",
    "\n",
    "@decorator\n",
    "def f():\n",
    "    pass\n",
    "\n",
    "print(f)"
   ]
  },
  {
   "cell_type": "code",
   "execution_count": 2,
   "metadata": {},
   "outputs": [
    {
     "name": "stdout",
     "output_type": "stream",
     "text": [
      "Created :  <function f at 0x000001F3B1EF3730>\n",
      "Do something\n",
      "None\n",
      "----\n",
      "Do something\n"
     ]
    }
   ],
   "source": [
    "def thingy(func):\n",
    "    print(\"Created : \", func)\n",
    "    return func\n",
    "\n",
    "@thingy\n",
    "def f():\n",
    "    print(\"Do something\")\n",
    "\n",
    "print(f())\n",
    "print(\"----\")\n",
    "f()"
   ]
  },
  {
   "cell_type": "code",
   "execution_count": 3,
   "metadata": {},
   "outputs": [
    {
     "name": "stdout",
     "output_type": "stream",
     "text": [
      "Used decorator on: <function g at 0x000001F3B1F04268>\n",
      "Used decorator on: <function f at 0x000001F3B1F04A60>\n",
      "----\n",
      "<function woggle.<locals>.wrapper at 0x000001F3B1F04D08>\n",
      "----\n",
      "Called: <function f at 0x000001F3B1F04A60>\n",
      "Do something\n",
      "Thingy\n",
      "----\n",
      "<function woggle.<locals>.wrapper at 0x000001F3B1F049D8>\n",
      "----\n",
      "Called: <function g at 0x000001F3B1F04268>\n",
      "None\n"
     ]
    }
   ],
   "source": [
    "def woggle(func):\n",
    "    print(\"Used decorator on:\", func)\n",
    "    def wrapper(*args, **kws):\n",
    "        print(\"Called:\", func)\n",
    "        return func(*args, **kws)\n",
    "    return wrapper\n",
    "\n",
    "@woggle\n",
    "def g():\n",
    "    pass\n",
    "\n",
    "@woggle\n",
    "def f():\n",
    "    print(\"Do something\")\n",
    "    return \"Thingy\"\n",
    "\n",
    "print(\"----\")\n",
    "print(f)\n",
    "print(\"----\")\n",
    "print(f())\n",
    "print(\"----\")\n",
    "print(g)\n",
    "print(\"----\")\n",
    "print(g())"
   ]
  },
  {
   "cell_type": "code",
   "execution_count": 13,
   "metadata": {},
   "outputs": [
    {
     "name": "stdout",
     "output_type": "stream",
     "text": [
      "<function f at 0x000001F3B1F36D90> \n",
      "    docs\n",
      "    \n",
      "----\n",
      "Called: <function f at 0x000001F3B1F36598>\n",
      "Do something\n",
      "Thingy\n"
     ]
    }
   ],
   "source": [
    "import functools\n",
    "\n",
    "def woggle(func):\n",
    "    @functools.wraps(func)\n",
    "    def wrapper(*args, **kws):\n",
    "        print(\"Called:\", func)\n",
    "        return func(*args, **kws)\n",
    "    return wrapper\n",
    "\n",
    "@woggle\n",
    "def f():\n",
    "    \"\"\"\n",
    "    docs\n",
    "    \"\"\"\n",
    "    print(\"Do something\")\n",
    "    return \"Thingy\"\n",
    "\n",
    "print(f, f.__doc__)\n",
    "print(\"----\")\n",
    "print(f())"
   ]
  },
  {
   "cell_type": "code",
   "execution_count": 5,
   "metadata": {},
   "outputs": [
    {
     "name": "stdout",
     "output_type": "stream",
     "text": [
      "<function test at 0x000001F3B1EF39D8>\n",
      "doc string\n",
      "None\n",
      "None\n",
      "test\n",
      "<function test at 0x000001F3B1EF39D8>\n"
     ]
    }
   ],
   "source": [
    "import functools\n",
    "\n",
    "def log(func):\n",
    "    @functools.wraps(func)\n",
    "    def wrapper(*args, **kws):\n",
    "        ... # Elided\n",
    "    #wrapper = functools.wraps(func)(wrapper)\n",
    "    return wrapper\n",
    "\n",
    "@log\n",
    "def test(name, value):\n",
    "    \"doc string\"\n",
    "    if value:\n",
    "        print(name, value)\n",
    "        return name\n",
    "    else:\n",
    "        return \"\"\n",
    "#test = log(test)\n",
    "\n",
    "print(test)\n",
    "print(test.__doc__)\n",
    "\n",
    "print(test(\"first\", 1))\n",
    "\n",
    "print(test(\"zero\", 0))\n",
    "\n",
    "print(test.__name__)\n",
    "print(test)"
   ]
  },
  {
   "cell_type": "code",
   "execution_count": 6,
   "metadata": {},
   "outputs": [
    {
     "name": "stdout",
     "output_type": "stream",
     "text": [
      "<function test at 0x000001F3B1F042F0> Doc string\n",
      "first 1\n",
      "first\n",
      "\n"
     ]
    }
   ],
   "source": [
    "def log(prefix):\n",
    "    def decorator(func):\n",
    "        @functools.wraps(func)\n",
    "        def wrapper(*args, **kws):\n",
    "            ...\n",
    "            return func(*args, **kws)\n",
    "        return wrapper\n",
    "    return decorator\n",
    "\n",
    "#adecorator = log(\"Test function\")\n",
    "#awrapper = adecorator(test)\n",
    "#test = awrapper\n",
    "\n",
    "@log(\"Test function\")\n",
    "def test(name, value):\n",
    "    \"\"\"Doc string\"\"\"\n",
    "    if value:\n",
    "        print(name, value)\n",
    "        return name\n",
    "    else:\n",
    "        return \"\"\n",
    "#test = log(\"Test function\")(test)\n",
    "\n",
    "print(test, test.__doc__)\n",
    "\n",
    "print(test(\"first\", 1))\n",
    "print(test(\"zero\", 0))"
   ]
  },
  {
   "cell_type": "markdown",
   "metadata": {},
   "source": [
    "#### Magic Methods\n",
    "#### __init__: Constructor\n",
    "#### __mul__ : Multiplication as a * b (a.__mul__(b))\n",
    "#### __matmul__ : Matrix multiplication: a @ b\n",
    "#### Many others"
   ]
  },
  {
   "cell_type": "code",
   "execution_count": 7,
   "metadata": {},
   "outputs": [],
   "source": [
    "class Vector(object):\n",
    "    def __init__(self, data):\n",
    "        self.data = list(data)\n",
    "\n",
    "    def __mul__(self, rhs): # self * rhs\n",
    "        if hasattr(rhs, \"data\"):\n",
    "            return Vector(x * y for x, y in zip(self.data, rhs.data))\n",
    "        else:\n",
    "            return Vector(x * rhs for x in self.data)\n",
    "\n",
    "    # Call for lhs * self and lhs does not have __mul__ or doesn't support Vectors.\n",
    "    def __rmul__(self, lhs): # lhs * self\n",
    "        return self * lhs\n",
    "\n",
    "    def __imul__(self, rhs):\n",
    "        for i in range(len(self.data)):\n",
    "            self.data[i] *= rhs\n",
    "        return self\n",
    "\n",
    "    def __str__(self): # str(o)\n",
    "        return \"<{}>\".format(self.data)\n",
    "\n",
    "    def __repr__(self): # repr(o)\n",
    "        return \"Vector({})\".format(repr(self.data))\n",
    "\n",
    "    def __eq__(self, other):\n",
    "        return self.data == other.data"
   ]
  },
  {
   "cell_type": "code",
   "execution_count": 8,
   "metadata": {},
   "outputs": [
    {
     "name": "stdout",
     "output_type": "stream",
     "text": [
      "<[0, 1, 2, 3, 4, 5, 6, 7, 8, 9]>\n",
      "<[0, 1, 4, 9, 16, 25, 36, 49, 64, 81]>\n",
      "<[0, 2, 4, 6, 8, 10, 12, 14, 16, 18]>\n",
      "6\n",
      "6\n",
      "<[0, 2, 4, 6, 8, 10, 12, 14, 16, 18]>\n",
      "<[0, 1, 2, 3, 4, 5, 6, 7, 8, 9]> <[0, 1, 2, 3, 4, 5, 6, 7, 8, 9]> Vector([0, 1, 2, 3, 4, 5, 6, 7, 8, 9])\n",
      "True\n"
     ]
    }
   ],
   "source": [
    "v = Vector(range(10))\n",
    "print(v)\n",
    "print(v * v)\n",
    "\n",
    "print(v * 2)\n",
    "\n",
    "print(2 * 3)\n",
    "print((2).__mul__(3))\n",
    "\n",
    "print(2 * v) # (2).__mul__(v)\n",
    "\n",
    "print(v, str(v), repr(v))\n",
    "\n",
    "\n",
    "w = Vector(range(10))\n",
    "print(v == w)"
   ]
  },
  {
   "cell_type": "code",
   "execution_count": 9,
   "metadata": {},
   "outputs": [
    {
     "name": "stdout",
     "output_type": "stream",
     "text": [
      "2\n",
      "2\n",
      "5\n"
     ]
    }
   ],
   "source": [
    "class TypedList(object):\n",
    "    def __init__(self, tpe):\n",
    "        self.tpe = tpe\n",
    "        self.data = []\n",
    "\n",
    "    def append(self, v):\n",
    "        if not isinstance(v, self.tpe):\n",
    "            raise ValueError(v)\n",
    "        self.data.append(v)\n",
    "\n",
    "    def __iter__(self):\n",
    "        return iter(self.data)\n",
    "\n",
    "    def __getitem__(self, ind):\n",
    "        return self.data[ind]\n",
    "\n",
    "    def __setitem__(self, ind, val): # self[ind] = val\n",
    "        if not isinstance(val, self.tpe):\n",
    "            raise ValueError(val)\n",
    "        self.data[ind] = val\n",
    "\n",
    "lst = TypedList(int)\n",
    "lst.append(2)\n",
    "\n",
    "for x in lst:\n",
    "    print(x)\n",
    "\n",
    "print(lst[0])\n",
    "\n",
    "lst[0] = 5\n",
    "\n",
    "print(lst[0])"
   ]
  },
  {
   "cell_type": "code",
   "execution_count": 10,
   "metadata": {},
   "outputs": [
    {
     "name": "stdout",
     "output_type": "stream",
     "text": [
      "(1, 2)\n"
     ]
    }
   ],
   "source": [
    "class FakeFunction(object):\n",
    "    def __call__(self, x, y):\n",
    "        return (x,y)\n",
    "\n",
    "    def backwards(self, x, y):\n",
    "        ...\n",
    "\n",
    "f = FakeFunction()\n",
    "\n",
    "print(f(1,2))"
   ]
  },
  {
   "cell_type": "code",
   "execution_count": 11,
   "metadata": {},
   "outputs": [
    {
     "name": "stdout",
     "output_type": "stream",
     "text": [
      "42\n",
      "(None, None, None)\n"
     ]
    }
   ],
   "source": [
    "class ContextMan(object):\n",
    "    def __enter__(self):\n",
    "        return 42\n",
    "\n",
    "    def __exit__(self, *exc):\n",
    "        print(exc)\n",
    "\n",
    "cm = ContextMan()\n",
    "with cm as x:\n",
    "    print(x)"
   ]
  },
  {
   "cell_type": "code",
   "execution_count": null,
   "metadata": {},
   "outputs": [],
   "source": []
  }
 ],
 "metadata": {
  "kernelspec": {
   "display_name": "Python 3",
   "language": "python",
   "name": "python3"
  },
  "language_info": {
   "codemirror_mode": {
    "name": "ipython",
    "version": 3
   },
   "file_extension": ".py",
   "mimetype": "text/x-python",
   "name": "python",
   "nbconvert_exporter": "python",
   "pygments_lexer": "ipython3",
   "version": "3.7.1"
  }
 },
 "nbformat": 4,
 "nbformat_minor": 2
}
