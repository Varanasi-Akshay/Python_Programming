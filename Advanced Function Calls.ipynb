{
 "cells": [
  {
   "cell_type": "code",
   "execution_count": 23,
   "metadata": {},
   "outputs": [
    {
     "name": "stdout",
     "output_type": "stream",
     "text": [
      "One test\n",
      "Two 20\n",
      "[] 20\n"
     ]
    }
   ],
   "source": [
    "# Default arguments\n",
    "\n",
    "def f(prefix, arg=20):\n",
    "    print(prefix, arg)\n",
    "\n",
    "f(\"One\", \"test\")\n",
    "f(\"Two\")\n",
    "# ERROR: f()"
   ]
  },
  {
   "cell_type": "code",
   "execution_count": 11,
   "metadata": {},
   "outputs": [
    {
     "name": "stdout",
     "output_type": "stream",
     "text": [
      "[3, 4, 'test']\n",
      "----\n",
      "['test']\n",
      "----\n",
      "['test', 'test']\n",
      "----\n",
      "[3, 4, 'test']\n",
      "----\n",
      "['test', 'test', 'test']\n",
      "----\n",
      "(['test', 'test', 'test'],)\n",
      "()\n"
     ]
    }
   ],
   "source": [
    "def f(arg=[]):\n",
    "    arg.append(\"test\")\n",
    "    print(arg)\n",
    "\n",
    "f([3,4])\n",
    "print(\"----\")\n",
    "f()\n",
    "print(\"----\")\n",
    "f()\n",
    "print(\"----\")\n",
    "f([3,4])\n",
    "print(\"----\")\n",
    "f()\n",
    "print(\"----\")\n",
    "print(f.__defaults__)\n",
    "f.__defaults__ = ()\n",
    "print(f.__defaults__)"
   ]
  },
  {
   "cell_type": "code",
   "execution_count": 13,
   "metadata": {},
   "outputs": [
    {
     "name": "stdout",
     "output_type": "stream",
     "text": [
      "[1, 2, 'test']\n",
      "----\n",
      "['test']\n",
      "----\n",
      "['test']\n",
      "----\n",
      "[1, 2, 'test']\n",
      "----\n",
      "['test']\n",
      "----\n",
      "['test']\n",
      "[]\n"
     ]
    }
   ],
   "source": [
    "def f(arg=None):\n",
    "    arg = arg or []\n",
    "    # arg = arg if arg is not None else []\n",
    "    arg.append(\"test\")\n",
    "    print(arg)\n",
    "\n",
    "f([1, 2])\n",
    "print(\"----\")\n",
    "f()\n",
    "print(\"----\")\n",
    "f()\n",
    "print(\"----\")\n",
    "f([1, 2])\n",
    "print(\"----\")\n",
    "f()\n",
    "print(\"----\")\n",
    "\n",
    "l = []\n",
    "f(l)\n",
    "print(l)"
   ]
  },
  {
   "cell_type": "code",
   "execution_count": 14,
   "metadata": {},
   "outputs": [
    {
     "name": "stdout",
     "output_type": "stream",
     "text": [
      "test 4\n",
      "other 10\n",
      "name 42\n",
      "flag True\n",
      "None 42\n"
     ]
    }
   ],
   "source": [
    "## Keyword arguments\n",
    "\n",
    "def f(name, value):\n",
    "    print(name, value)\n",
    "\n",
    "f(name=\"test\", value=4)\n",
    "f(value=10, name=\"other\")\n",
    "\n",
    "def f(name=None, value=True):\n",
    "    print(name, value)\n",
    "\n",
    "f(\"name\", value=42)\n",
    "f(\"flag\")\n",
    "f(value=42)"
   ]
  },
  {
   "cell_type": "code",
   "execution_count": 2,
   "metadata": {},
   "outputs": [
    {
     "name": "stdout",
     "output_type": "stream",
     "text": [
      "1 2 3 4\n",
      "(3, 4)\n",
      "(1, 2, 3, 4)\n"
     ]
    }
   ],
   "source": [
    "## Varadic functions (Varargs) Positional\n",
    "\n",
    "l = [1, 2 , 3, 4]\n",
    "print(*l)\n",
    "\n",
    "def f(one, two, *args):\n",
    "    print(args)\n",
    "\n",
    "f(1, 2, 3, 4)\n",
    "\n",
    "def f(*args):\n",
    "    print(args)\n",
    "\n",
    "f(1, 2, 3, 4)"
   ]
  },
  {
   "cell_type": "code",
   "execution_count": 24,
   "metadata": {},
   "outputs": [
    {
     "name": "stdout",
     "output_type": "stream",
     "text": [
      "2 (3, 4)\n",
      "3 (4, 5)\n",
      "4 (8, 12, 16)\n",
      "4 (8, 12, 16, 20, 24, 28, 32, 36, 42)\n"
     ]
    }
   ],
   "source": [
    "def f(one, two, *args):\n",
    "    print(two, args)\n",
    "\n",
    "f(1, 2, 3, 4)\n",
    "\n",
    "l = [2, 3, 4, 5]\n",
    "f(*l)\n",
    "\n",
    "iterable = (4*x for x in range(5))\n",
    "f(*iterable)\n",
    "\n",
    "iterable = (4*x for x in range(10))\n",
    "f(*iterable, 42, *iterable)"
   ]
  },
  {
   "cell_type": "code",
   "execution_count": 4,
   "metadata": {},
   "outputs": [
    {
     "name": "stdout",
     "output_type": "stream",
     "text": [
      "True True\n"
     ]
    }
   ],
   "source": [
    "## Weird\n",
    "print(None != [None], None != [])"
   ]
  },
  {
   "cell_type": "code",
   "execution_count": 27,
   "metadata": {},
   "outputs": [
    {
     "name": "stdout",
     "output_type": "stream",
     "text": [
      "1 {'two': 2, 'three': 3, 'four': 4}\n",
      "1 {'two': 2, 'three': 3, 'four': 4}\n",
      "1 {'ten': 10, 'two': 2}\n",
      "1 None\n"
     ]
    }
   ],
   "source": [
    "## Keyword\n",
    "\n",
    "def f(one, **kwds):\n",
    "    print(one, kwds)\n",
    "\n",
    "f(one=1,two=2,three=3,four=4)\n",
    "\n",
    "f(1, two=2,three=3,four=4)\n",
    "#f(1, 2,three=3,four=4)\n",
    "\n",
    "d = {\"ten\": 10, \"one\": 1, \"two\": 2}\n",
    "f(**d)\n",
    "\n",
    "def g(one, two=None):\n",
    "    print(one, two)\n",
    "\n",
    "g(**{\"one\": 1})"
   ]
  },
  {
   "cell_type": "code",
   "execution_count": 8,
   "metadata": {},
   "outputs": [
    {
     "name": "stdout",
     "output_type": "stream",
     "text": [
      "test 4\n"
     ]
    }
   ],
   "source": [
    "## Keyword only arguments\n",
    "\n",
    "def f(prefix, *, value):\n",
    "    print(prefix, value)\n",
    "\n",
    "# ERROR: f(\"test\", 4, value=4)\n",
    "\n",
    "f(\"test\", value=4)\n",
    "# ERROR: f(\"test\", 4)"
   ]
  },
  {
   "cell_type": "code",
   "execution_count": 9,
   "metadata": {},
   "outputs": [
    {
     "name": "stdout",
     "output_type": "stream",
     "text": [
      "([1], {1, 'test'}) {}\n",
      "(10,) {}\n",
      "(10,) {}\n"
     ]
    }
   ],
   "source": [
    "## All together now\n",
    "\n",
    "def f(*args, **kws):\n",
    "    print(args, kws)\n",
    "\n",
    "f([1], {\"test\", 1})\n",
    "\n",
    "x = 10\n",
    "f(x)\n",
    "f(10)"
   ]
  },
  {
   "cell_type": "code",
   "execution_count": 2,
   "metadata": {},
   "outputs": [
    {
     "name": "stdout",
     "output_type": "stream",
     "text": [
      "<function f at 0x0000029E38BF4F28>\n",
      "[1, 2, 3, 4, 5, 6, 7, 8, 9, 10]\n",
      "[0, 1, 4, 9, 16, 25, 36, 49, 64, 81]\n",
      "[0, 1, 4, 9, 16, 25, 36, 49, 64, 81]\n"
     ]
    }
   ],
   "source": [
    "\"\"\"\n",
    "Higher-order functions\n",
    "\n",
    "Functions that take functions as parameters\n",
    "\"\"\"\n",
    "\n",
    "def mymap(func, iterable):\n",
    "    return [func(x) for x in iterable]\n",
    "\n",
    "def f(x):\n",
    "    return x + 1\n",
    "print(f)\n",
    "\n",
    "print(mymap(f, range(10)))\n",
    "\n",
    "def square(x):\n",
    "    return x*x\n",
    "print(mymap(square, range(10)))\n",
    "\n",
    "print(mymap(lambda x: x*x, range(10)))"
   ]
  },
  {
   "cell_type": "code",
   "execution_count": 20,
   "metadata": {},
   "outputs": [
    {
     "name": "stdout",
     "output_type": "stream",
     "text": [
      "<class 'map'>\n",
      "<class 'generator'>\n"
     ]
    }
   ],
   "source": [
    "\"\"\"\n",
    "map is actually a standard library function.\n",
    "Using comprehensions is usually better.\n",
    "\"\"\"\n",
    "a = map(lambda x: x*x, range(100000))\n",
    "print(type(a))\n",
    "b = (x*x for x in range(100000))\n",
    "print(type(b))"
   ]
  },
  {
   "cell_type": "code",
   "execution_count": 22,
   "metadata": {},
   "outputs": [
    {
     "name": "stdout",
     "output_type": "stream",
     "text": [
      "<function addTo at 0x0000029E38C14620>\n",
      "<function addTo.<locals>.addToFunc at 0x0000029E38C140D0>\n",
      "6\n",
      "6\n",
      "----\n",
      "(<cell at 0x0000029E38C1D5B8: int object at 0x00007FFA41C5B370>,)\n",
      "12\n",
      "[5, 6, 7, 8, 9, 10, 11, 12, 13, 14]\n"
     ]
    }
   ],
   "source": [
    "## Also functions that return other functions\n",
    "\n",
    "def addTo(x):\n",
    "    def addToFunc(y):\n",
    "        return x + y\n",
    "    return addToFunc\n",
    "\n",
    "print(addTo)\n",
    "\n",
    "print(addTo(2))\n",
    "\n",
    "f = addTo(2)\n",
    "print(f(4))\n",
    "\n",
    "print(addTo(2)(4))\n",
    "print(\"----\")\n",
    "\n",
    "# The environment of the function:\n",
    "print(f.__closure__)\n",
    "\n",
    "print(f(10))\n",
    "\n",
    "print(mymap(addTo(5), range(10)))\n"
   ]
  }
 ],
 "metadata": {
  "kernelspec": {
   "display_name": "Python 3",
   "language": "python",
   "name": "python3"
  },
  "language_info": {
   "codemirror_mode": {
    "name": "ipython",
    "version": 3
   },
   "file_extension": ".py",
   "mimetype": "text/x-python",
   "name": "python",
   "nbconvert_exporter": "python",
   "pygments_lexer": "ipython3",
   "version": "3.7.1"
  }
 },
 "nbformat": 4,
 "nbformat_minor": 2
}
