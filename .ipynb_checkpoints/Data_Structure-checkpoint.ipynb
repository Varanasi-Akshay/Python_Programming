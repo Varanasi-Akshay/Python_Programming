{
 "cells": [
  {
   "cell_type": "code",
   "execution_count": 1,
   "metadata": {},
   "outputs": [
    {
     "name": "stdout",
     "output_type": "stream",
     "text": [
      "1 2\n",
      "2 3\n"
     ]
    }
   ],
   "source": [
    "# Variable Unpacking\n",
    "\n",
    "a, b = 1, 2\n",
    "print(a, b)\n",
    "\n",
    "# Use multiple assignment to avoid temporaries.\n",
    "a, b = b, a + b\n",
    "print(a, b)"
   ]
  },
  {
   "cell_type": "markdown",
   "metadata": {},
   "source": [
    "## Lists\n",
    "#### https://www.programiz.com/python-programming/list"
   ]
  },
  {
   "cell_type": "code",
   "execution_count": 2,
   "metadata": {},
   "outputs": [
    {
     "name": "stdout",
     "output_type": "stream",
     "text": [
      "[1, 2]\n",
      "-------\n",
      "[1, 2, 'And other things']\n",
      "-------\n",
      "[1, 2, 'And other things', [3, 4]]\n",
      "-------\n",
      "[1, 2, 'And other things', [3, 4], 5, 6]\n",
      "-------\n",
      "[1, 2, 'And other things', [3, 4], 5, 6, 7, 8]\n",
      "-------\n",
      "[1, 2, 'And other things', [3, 4], 5, 6, 7, 8, 9, 10]\n"
     ]
    }
   ],
   "source": [
    "l = [1, 2]\n",
    "print(l)\n",
    "print(\"-------\")\n",
    "# Add elements\n",
    "l.append(\"And other things\")\n",
    "print(l)\n",
    "print(\"-------\")\n",
    "l.append([3, 4])\n",
    "print(l)\n",
    "print(\"-------\")\n",
    "l.extend([5, 6])\n",
    "print(l)\n",
    "print(\"-------\")\n",
    "l += [7, 8]  # same\n",
    "print(l)\n",
    "print(\"-------\")\n",
    "\n",
    "# QUIRK:\n",
    "l = l + [9, 10]  # Makes a copy of l\n",
    "print(l)\n",
    "# This is not obvious so don't do this and use the += form"
   ]
  },
  {
   "cell_type": "code",
   "execution_count": 3,
   "metadata": {},
   "outputs": [
    {
     "name": "stdout",
     "output_type": "stream",
     "text": [
      "[1, 2, 'And other things', [3, 4], 5, 6, 7, 8, 9, 10]\n",
      "[1, 2, 'And other things', [3, 4], 5, 6, 7, 8, 9, 10, 100]\n",
      "-------\n",
      "2\n",
      "10\n",
      "[10, 9, 8, 7, 6, 5, [3, 4], 'And other things', 2, 1]\n",
      "-------\n",
      "1\n",
      "2\n",
      "And other things\n",
      "[3, 4]\n",
      "5\n",
      "6\n",
      "7\n",
      "8\n",
      "9\n",
      "10\n",
      "-------\n",
      "10\n",
      "-------\n",
      "True\n",
      "-------\n",
      "1 2 3 4\n",
      "1 [2, 3, 4]\n",
      "[[1], [2]]\n"
     ]
    }
   ],
   "source": [
    "#l2 = l\n",
    "l2 = l + [100]\n",
    "\n",
    "print(l)\n",
    "print(l2)\n",
    "print(\"-------\")\n",
    "\n",
    "# Extract Elements\n",
    "print(l[1])\n",
    "print(l[-1])\n",
    "print(l[::-1])\n",
    "print(\"-------\")\n",
    "\n",
    "# Iterate\n",
    "for x in l:\n",
    "    print(x)\n",
    "print(\"-------\")\n",
    "\n",
    "# Get the length of the list\n",
    "print(len(l))\n",
    "print(\"-------\")\n",
    "\n",
    "# Check the presence of elements\n",
    "print(2 in l)  # O(len(l))\n",
    "print(\"-------\")\n",
    "\n",
    "# You can also unpack lists (and other iterables)\n",
    "lst = [1, 2, 3, 4]\n",
    "a, b, c, d = lst\n",
    "print(a, b, c, d)\n",
    "\n",
    "a, *rest = lst\n",
    "print(a, rest)\n",
    "\n",
    "# Nested lists (or other mutable data)\n",
    "o = [[1], [2]]\n",
    "print(o)"
   ]
  },
  {
   "cell_type": "code",
   "execution_count": 4,
   "metadata": {},
   "outputs": [
    {
     "name": "stdout",
     "output_type": "stream",
     "text": [
      "[[1, 2, 3], [4, 5, 6]]\n",
      "[[1, 2, 3], [4, 5, 6]]\n",
      "[[1, 2, 3], [4, 5, 6]]\n",
      "[[1, 2, 3], [4, 5, 6]]\n",
      "-------\n",
      "[[1, 10, 3], [4, 5, 6]]\n",
      "[[1, 10, 3], [4, 5, 6]]\n",
      "[[1, 10, 3], [4, 5, 6]]\n",
      "[[1, 2, 3], [4, 5, 6]]\n",
      "-------\n",
      "[[7, 8, 9], [4, 5, 6]]\n",
      "[[7, 8, 9], [4, 5, 6]]\n",
      "[[1, 10, 3], [4, 5, 6]]\n",
      "[[1, 2, 3], [4, 5, 6]]\n",
      "-------\n"
     ]
    }
   ],
   "source": [
    "from copy import copy, deepcopy\n",
    "\n",
    "a = [[1, 2, 3], [4, 5, 6]]\n",
    "b = a\n",
    "c = copy(b)\n",
    "d = deepcopy(b)\n",
    "print(a, b, c, d, sep='\\n')\n",
    "print(\"-------\")\n",
    "\n",
    "a[0][1] = 10\n",
    "print(a, b, c, d, sep='\\n')\n",
    "print(\"-------\")\n",
    "\n",
    "a[0] = [7, 8, 9]\n",
    "print(a, b, c, d, sep='\\n')\n",
    "print(\"-------\")"
   ]
  },
  {
   "cell_type": "markdown",
   "metadata": {},
   "source": [
    "## Sets\n",
    "#### https://www.programiz.com/python-programming/set"
   ]
  },
  {
   "cell_type": "code",
   "execution_count": 5,
   "metadata": {},
   "outputs": [
    {
     "name": "stdout",
     "output_type": "stream",
     "text": [
      "{'r', 'b', 'a', 'd', 'c'}\n",
      "{2, 3}\n",
      "-------\n",
      "{2, 3, 5}\n",
      "-------\n",
      "{2, 3, 4, 5}\n",
      "-------\n",
      "{2, 3, 4, 5, 6}\n",
      "{2, 3, 4, 5, 6}\n"
     ]
    }
   ],
   "source": [
    "print(set(\"abracadabra\"))\n",
    "\n",
    "# sets are unordered\n",
    "\n",
    "s = set()\n",
    "s = set([2,3])\n",
    "print(s)\n",
    "print(\"-------\")\n",
    "s.add(2)\n",
    "s.add(5)\n",
    "print(s)\n",
    "print(\"-------\")\n",
    "\n",
    "s.update([2,3,4])\n",
    "print(s)\n",
    "print(\"-------\")\n",
    "print(s | set([2,6])) # same as union\n",
    "print(s.union([2,6]))\n",
    "\n",
    "# 'set' object does not support indexing\n",
    "# s[0]\n",
    "\n",
    "# Figure out why this doesn't work.\n",
    "# print(set([[1, 2]]))"
   ]
  },
  {
   "cell_type": "markdown",
   "metadata": {},
   "source": [
    "## Tuple\n",
    "#### https://www.programiz.com/python-programming/tuple"
   ]
  },
  {
   "cell_type": "code",
   "execution_count": 6,
   "metadata": {},
   "outputs": [
    {
     "name": "stdout",
     "output_type": "stream",
     "text": [
      "(1, 3) (1, 3) True\n"
     ]
    }
   ],
   "source": [
    "# like List but Immutable\n",
    "\n",
    "t = ()\n",
    "t = (1,)\n",
    "t = (1, 2.0)\n",
    "l = [1, 3]\n",
    "t = tuple(l)\n",
    "\n",
    "t2 = t  # Two references\n",
    "\n",
    "print(t, t2, t is t2)\n",
    "\n",
    "# 1. Safety: Some other part of the code cannot accidentally change the value.\n",
    "# 2. Utility: Because it is immutable it is hashable and can be used as a dict key."
   ]
  },
  {
   "cell_type": "markdown",
   "metadata": {},
   "source": [
    "## Frozenset"
   ]
  },
  {
   "cell_type": "code",
   "execution_count": 7,
   "metadata": {},
   "outputs": [
    {
     "name": "stdout",
     "output_type": "stream",
     "text": [
      "frozenset({2, 3, 4})\n",
      "-----\n",
      "frozenset({2, 3, 4})\n",
      "-----\n",
      "frozenset({2, 3, 4})\n",
      "-----\n",
      "frozenset({2, 3, 4})\n"
     ]
    }
   ],
   "source": [
    "s = frozenset([2,3,4])\n",
    "\n",
    "print(s)\n",
    "\n",
    "{s: 42}\n",
    "print('-----')\n",
    "print(s)\n",
    "s |= s\n",
    "\n",
    "print('-----')\n",
    "print(s)\n",
    "s = s | s\n",
    "\n",
    "print('-----')\n",
    "print(s)\n",
    "\n",
    "# Tuples are really just frozen lists."
   ]
  }
 ],
 "metadata": {
  "kernelspec": {
   "display_name": "Python 3",
   "language": "python",
   "name": "python3"
  },
  "language_info": {
   "codemirror_mode": {
    "name": "ipython",
    "version": 3
   },
   "file_extension": ".py",
   "mimetype": "text/x-python",
   "name": "python",
   "nbconvert_exporter": "python",
   "pygments_lexer": "ipython3",
   "version": "3.7.3"
  }
 },
 "nbformat": 4,
 "nbformat_minor": 2
}
